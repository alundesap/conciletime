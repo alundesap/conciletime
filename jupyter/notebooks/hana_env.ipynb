{
 "cells": [
  {
   "cell_type": "code",
   "execution_count": 11,
   "metadata": {},
   "outputs": [],
   "source": [
    "from sap import xssec\n",
    "from cfenv import AppEnv\n",
    "\n",
    "env = AppEnv()\n",
    "hana = env.get_service(label='hana')"
   ]
  },
  {
   "cell_type": "code",
   "execution_count": 12,
   "metadata": {},
   "outputs": [
    {
     "name": "stdout",
     "output_type": "stream",
     "text": [
      "<Service name=CONCILE_HDB>\n"
     ]
    }
   ],
   "source": [
    "print(hana)"
   ]
  },
  {
   "cell_type": "code",
   "execution_count": 13,
   "metadata": {},
   "outputs": [],
   "source": [
    "schema = hana.credentials['schema']\n",
    "host = hana.credentials['host']\n",
    "port = hana.credentials['port']\n",
    "user = hana.credentials['user']\n",
    "password = hana.credentials['password']"
   ]
  },
  {
   "cell_type": "code",
   "execution_count": 14,
   "metadata": {},
   "outputs": [
    {
     "name": "stdout",
     "output_type": "stream",
     "text": [
      "zeus.hana.prod.us-east-1.whitney.dbaas.ondemand.com\n",
      "20217\n",
      "CONCILE_V0\n",
      "CONCILE_V0_0UKCDRC7AP5KUYOHMKY4YKEM5_RT\n",
      "Fb085j_ruYRvjB15W76Ubfc6x8r.MTYOyuq5u_7HXhHKlRG.m-w17OInJxQqjb4jXC-eelRtBXQVvwKBnlBMS9f0.d8-1h7g5zi.vjuvBjCl1NY4TGBQ15z8EPjpKD-G\n"
     ]
    }
   ],
   "source": [
    "print(host)\n",
    "print(port)\n",
    "print(schema)\n",
    "print(user)\n",
    "print(password)"
   ]
  },
  {
   "cell_type": "code",
   "execution_count": null,
   "metadata": {},
   "outputs": [],
   "source": []
  }
 ],
 "metadata": {
  "kernelspec": {
   "display_name": "Python 3",
   "language": "python",
   "name": "python3"
  },
  "language_info": {
   "codemirror_mode": {
    "name": "ipython",
    "version": 3
   },
   "file_extension": ".py",
   "mimetype": "text/x-python",
   "name": "python",
   "nbconvert_exporter": "python",
   "pygments_lexer": "ipython3",
   "version": "3.7.3"
  }
 },
 "nbformat": 4,
 "nbformat_minor": 2
}
