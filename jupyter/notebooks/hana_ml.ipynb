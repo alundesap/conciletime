{
 "cells": [
  {
   "cell_type": "code",
   "execution_count": 7,
   "metadata": {},
   "outputs": [],
   "source": [
    "from sap import xssec\n",
    "from cfenv import AppEnv\n",
    "\n",
    "env = AppEnv()\n",
    "hana = env.get_service(label='hana')"
   ]
  },
  {
   "cell_type": "code",
   "execution_count": 8,
   "metadata": {},
   "outputs": [
    {
     "name": "stdout",
     "output_type": "stream",
     "text": [
      "<Service name=CONCILE_HDB>\n"
     ]
    }
   ],
   "source": [
    "print(hana)"
   ]
  },
  {
   "cell_type": "code",
   "execution_count": 9,
   "metadata": {},
   "outputs": [],
   "source": [
    "schema = hana.credentials['schema']\n",
    "host = hana.credentials['host']\n",
    "port = hana.credentials['port']\n",
    "user = hana.credentials['user']\n",
    "password = hana.credentials['password']"
   ]
  },
  {
   "cell_type": "code",
   "execution_count": 10,
   "metadata": {},
   "outputs": [
    {
     "name": "stdout",
     "output_type": "stream",
     "text": [
      "zeus.hana.prod.us-east-1.whitney.dbaas.ondemand.com\n",
      "20217\n",
      "CONCILE_V0\n",
      "CONCILE_V0_0UKCDRC7AP5KUYOHMKY4YKEM5_RT\n",
      "Fb085j_ruYRvjB15W76Ubfc6x8r.MTYOyuq5u_7HXhHKlRG.m-w17OInJxQqjb4jXC-eelRtBXQVvwKBnlBMS9f0.d8-1h7g5zi.vjuvBjCl1NY4TGBQ15z8EPjpKD-G\n"
     ]
    }
   ],
   "source": [
    "print(host)\n",
    "print(port)\n",
    "print(schema)\n",
    "print(user)\n",
    "print(password)"
   ]
  },
  {
   "cell_type": "markdown",
   "metadata": {},
   "source": [
    "In a Jupyter Terminal...\n",
    "\n",
    "```\n",
    "wget -c http://thedrop.sap-a-team.com/files/hana_ml-1.0.7.tar.gz\n",
    "pip3 install hana_ml --find-links ./hana_ml-1.0.7.tar.gz\n",
    "```"
   ]
  },
  {
   "cell_type": "code",
   "execution_count": 11,
   "metadata": {},
   "outputs": [],
   "source": [
    "import hana_ml\n",
    "from hana_ml import dataframe"
   ]
  },
  {
   "cell_type": "code",
   "execution_count": 15,
   "metadata": {},
   "outputs": [],
   "source": [
    "    # The certificate will available for HANA service instances that require an encrypted connection\n",
    "    # Note: This was tested to work with python hdbcli-2.3.112 tar.gz package not hdbcli-2.3.14 provided in XS_PYTHON00_0-70003433.ZIP  \n",
    "\n",
    "if 'certificate' in hana.credentials:\n",
    "  haascert = hana.credentials['certificate']\n"
   ]
  },
  {
   "cell_type": "markdown",
   "metadata": {},
   "source": [
    "https://github.com/alundesap/mta_python_ml/blob/master/python/server.py"
   ]
  },
  {
   "cell_type": "code",
   "execution_count": 18,
   "metadata": {},
   "outputs": [],
   "source": [
    "from hdbcli import dbapi"
   ]
  },
  {
   "cell_type": "code",
   "execution_count": 30,
   "metadata": {},
   "outputs": [],
   "source": [
    "# Connect to the python HANA DB driver using the connection info\n",
    "# User for HANA as a Service instances\n",
    "if 'certificate' in hana.credentials:\n",
    "  connection = dbapi.connect(\n",
    "    address=host,\n",
    "    port=int(port),\n",
    "    user=user,\n",
    "    password=password,\n",
    "    currentSchema=schema,\n",
    "    encrypt=\"true\",\n",
    "    sslValidateCertificate=\"true\",\n",
    "    sslCryptoProvider=\"openssl\",\n",
    "    sslTrustStore=haascert\n",
    "  )\n",
    "else:\n",
    "  connection = dbapi.connect(\n",
    "    address=host,\n",
    "    port=int(port),\n",
    "    user=user,\n",
    "    password=password,\n",
    "    currentSchema=schema\n",
    "  )\n"
   ]
  },
  {
   "cell_type": "code",
   "execution_count": 31,
   "metadata": {},
   "outputs": [],
   "source": [
    "# Prep a cursor for SQL execution\n",
    "cursor = connection.cursor()"
   ]
  },
  {
   "cell_type": "code",
   "execution_count": 32,
   "metadata": {},
   "outputs": [
    {
     "data": {
      "text/plain": [
       "True"
      ]
     },
     "execution_count": 32,
     "metadata": {},
     "output_type": "execute_result"
    }
   ],
   "source": [
    "# Form an SQL statement to retrieve some data\n",
    "cursor.execute('SELECT NOW() FROM DUMMY')"
   ]
  },
  {
   "cell_type": "code",
   "execution_count": 33,
   "metadata": {},
   "outputs": [],
   "source": [
    "# Execute the SQL and capture the result set\n",
    "vals = cursor.fetchall()\n",
    "#\n",
    "output = 'Python UnAuthorized DB Only. \\n'\n",
    "\n",
    "# Loop through the result set and output\n",
    "for val in vals:\n",
    "  output += 'server DateTime: ' + str(val[0]) + '\\n'"
   ]
  },
  {
   "cell_type": "code",
   "execution_count": 34,
   "metadata": {},
   "outputs": [],
   "source": [
    "# Close the DB connection\n",
    "connection.close()"
   ]
  },
  {
   "cell_type": "code",
   "execution_count": 35,
   "metadata": {},
   "outputs": [
    {
     "name": "stdout",
     "output_type": "stream",
     "text": [
      "Python UnAuthorized DB Only. \n",
      "server time:2019-08-22 19:48:35.694000\n",
      "\n"
     ]
    }
   ],
   "source": [
    "print(output)"
   ]
  },
  {
   "cell_type": "code",
   "execution_count": 36,
   "metadata": {},
   "outputs": [
    {
     "name": "stdout",
     "output_type": "stream",
     "text": [
      "Done...\n"
     ]
    }
   ],
   "source": [
    "print(\"Done...\")"
   ]
  },
  {
   "cell_type": "code",
   "execution_count": null,
   "metadata": {},
   "outputs": [],
   "source": []
  }
 ],
 "metadata": {
  "kernelspec": {
   "display_name": "Python 3",
   "language": "python",
   "name": "python3"
  },
  "language_info": {
   "codemirror_mode": {
    "name": "ipython",
    "version": 3
   },
   "file_extension": ".py",
   "mimetype": "text/x-python",
   "name": "python",
   "nbconvert_exporter": "python",
   "pygments_lexer": "ipython3",
   "version": "3.7.3"
  }
 },
 "nbformat": 4,
 "nbformat_minor": 2
}
