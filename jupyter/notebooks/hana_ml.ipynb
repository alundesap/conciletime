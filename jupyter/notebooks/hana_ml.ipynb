{
 "cells": [
  {
   "cell_type": "code",
   "execution_count": 15,
   "metadata": {},
   "outputs": [],
   "source": [
    "from sap import xssec\n",
    "from cfenv import AppEnv\n",
    "\n",
    "env = AppEnv()\n",
    "hana = env.get_service(label='hana')"
   ]
  },
  {
   "cell_type": "code",
   "execution_count": 16,
   "metadata": {},
   "outputs": [
    {
     "name": "stdout",
     "output_type": "stream",
     "text": [
      "<Service name=CONCILE_HDB>\n"
     ]
    }
   ],
   "source": [
    "print(hana)"
   ]
  },
  {
   "cell_type": "code",
   "execution_count": 17,
   "metadata": {},
   "outputs": [],
   "source": [
    "schema = hana.credentials['schema']\n",
    "host = hana.credentials['host']\n",
    "port = hana.credentials['port']\n",
    "user = hana.credentials['user']\n",
    "password = hana.credentials['password']"
   ]
  },
  {
   "cell_type": "code",
   "execution_count": 18,
   "metadata": {},
   "outputs": [
    {
     "name": "stdout",
     "output_type": "stream",
     "text": [
      "zeus.hana.prod.us-east-1.whitney.dbaas.ondemand.com\n",
      "20217\n",
      "CONCILE_V0\n",
      "CONCILE_V0_0UKCDRC7AP5KUYOHMKY4YKEM5_RT\n",
      "Fb085j_ruYRvjB15W76Ubfc6x8r.MTYOyuq5u_7HXhHKlRG.m-w17OInJxQqjb4jXC-eelRtBXQVvwKBnlBMS9f0.d8-1h7g5zi.vjuvBjCl1NY4TGBQ15z8EPjpKD-G\n"
     ]
    }
   ],
   "source": [
    "print(host)\n",
    "print(port)\n",
    "print(schema)\n",
    "print(user)\n",
    "print(password)"
   ]
  },
  {
   "cell_type": "markdown",
   "metadata": {},
   "source": [
    "In a Jupyter Terminal...\n",
    "\n",
    "```\n",
    "wget -c http://thedrop.sap-a-team.com/files/hana_ml-1.0.7.tar.gz\n",
    "pip3 install hana_ml --find-links ./hana_ml-1.0.7.tar.gz\n",
    "```"
   ]
  },
  {
   "cell_type": "code",
   "execution_count": 19,
   "metadata": {},
   "outputs": [],
   "source": [
    "#import hana_ml\n",
    "#from hana_ml import dataframe\n",
    "#from hana_ml.algorithms import classification\n"
   ]
  },
  {
   "cell_type": "code",
   "execution_count": 20,
   "metadata": {},
   "outputs": [],
   "source": [
    "    # The certificate will available for HANA service instances that require an encrypted connection\n",
    "    # Note: This was tested to work with python hdbcli-2.3.112 tar.gz package not hdbcli-2.3.14 provided in XS_PYTHON00_0-70003433.ZIP  \n",
    "\n",
    "    #if 'certificate' in hana.credentials:\n",
    "        #haascert = hana.credentials['certificate']\n"
   ]
  },
  {
   "cell_type": "markdown",
   "metadata": {},
   "source": [
    "https://github.com/alundesap/mta_python_ml/blob/master/python/server.py"
   ]
  },
  {
   "cell_type": "markdown",
   "metadata": {},
   "source": [
    "```\n",
    "#    # Connect to the python HANA DB driver using the connection info\n",
    "# User for HANA as a Service instances\n",
    "    if 'certificate' in hana.credentials:\n",
    "        connection = dbapi.connect(\n",
    "            address=host,\n",
    "            port=int(port),\n",
    "            user=user,\n",
    "            password=password,\n",
    "            currentSchema=schema,\n",
    "            encrypt=\"true\",\n",
    "            sslValidateCertificate=\"true\",\n",
    "            sslCryptoProvider=\"openssl\",\n",
    "            sslTrustStore=haascert\n",
    "        )\n",
    "    else:\n",
    "        connection = dbapi.connect(host,int(port),user,password)\n",
    "\n",
    "#    # Prep a cursor for SQL execution\n",
    "    cursor = connection.cursor()\n",
    "\n",
    "#    # Form an SQL statement to retrieve some data\n",
    "    if 'certificate' in hana.credentials:\n",
    "        cursor.execute('SELECT \"ID\",\"ATTRIBUTE1\",\"ATTRIBUTE2\",\"ATTRIBUTE3\",\"ATTRIBUTE4\",\"LABEL\" FROM \"' + '' + '\".\"mta_python_ml.db.data::mnist.extrain\"')\n",
    "    else:\n",
    "        cursor.execute('SELECT \"ID\",\"ATTRIBUTE1\",\"ATTRIBUTE2\",\"ATTRIBUTE3\",\"ATTRIBUTE4\",\"LABEL\" FROM \"' + schema + '\".\"mta_python_ml.db.data::mnist.extrain\"')\n",
    "\n",
    "#    # Execute the SQL and capture the result set\n",
    "    extrain_vals = cursor.fetchall()\n",
    "#\n",
    "#    # Loop through the result set and output\n",
    "    for extrain_val in extrain_vals:\n",
    "        output += 'extrain[' + str(extrain_val[0]) + ']'\n",
    "        output += ' at1: ' + str(extrain_val[1])\n",
    "        output += ' at2: ' + str(extrain_val[2])\n",
    "        output += ' at3: ' + str(extrain_val[3])\n",
    "        output += ' at4: ' + str(extrain_val[4])\n",
    "        output += ' lab: ' + str(extrain_val[5]) + '\\n'\n",
    "#\n",
    "#    # Close the DB connection\n",
    "    connection.close()\n",
    "#\n",
    "    # Return the results\n",
    "    # return output\n",
    "    return Response(output, mimetype='text/plain')\n",
    "\n",
    "```"
   ]
  },
  {
   "cell_type": "code",
   "execution_count": 21,
   "metadata": {},
   "outputs": [
    {
     "name": "stdout",
     "output_type": "stream",
     "text": [
      "Done...\n"
     ]
    }
   ],
   "source": [
    "print(\"Done...\")"
   ]
  },
  {
   "cell_type": "code",
   "execution_count": null,
   "metadata": {},
   "outputs": [],
   "source": []
  }
 ],
 "metadata": {
  "kernelspec": {
   "display_name": "Python 3",
   "language": "python",
   "name": "python3"
  },
  "language_info": {
   "codemirror_mode": {
    "name": "ipython",
    "version": 3
   },
   "file_extension": ".py",
   "mimetype": "text/x-python",
   "name": "python",
   "nbconvert_exporter": "python",
   "pygments_lexer": "ipython3",
   "version": "3.7.3"
  }
 },
 "nbformat": 4,
 "nbformat_minor": 2
}
